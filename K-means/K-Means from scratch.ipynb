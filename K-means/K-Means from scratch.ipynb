{
 "cells": [
  {
   "cell_type": "markdown",
   "metadata": {},
   "source": [
    "# K MEANS FROM SCRATCH\n",
    "<hr style=\"height:5px;border-width:2;color:gray\">"
   ]
  },
  {
   "cell_type": "markdown",
   "metadata": {},
   "source": [
    "In this notebook we will be implementing K Means from scratch. K Means can be implemented using scikit learn. However to get a better understanding of what is actually happening behind the scenes, we will be implementing K Means from scratch.\n",
    "\n",
    "#### Dataset\n",
    "You are given a file \"data.npy\" along with this assignment notebook. Load the numpy array from that file and cluster on that data.\n",
    "\n",
    "#### Tasks\n",
    "<ul>\n",
    "    <li>\n",
    "        <b>Creating Functions</b>:<br>\n",
    "        You are expected to create the following functions.\n",
    "        <ul>\n",
    "            <li>Model function that implements K Means given K value and data. It should return the cluster centers.</li>\n",
    "            <li>Error function that calculates the SSE given cluster centers and data. It should return SSE value.</li>\n",
    "            <li>Function to plot Elbow plot given maximum number of K values and data.</li>\n",
    "        </ul>\n",
    "        Apart from these you can create as many helper funtions as you want but these three functions must be defined.\n",
    "    </li>\n",
    "    <li>\n",
    "        <b>Clustering</b>:<br>\n",
    "        Here you are expected to perform K Means clustering on the given data using the suitable K Value and then give suitable cluster centers.\n",
    "    </li>\n",
    "</ul>\n",
    "\n",
    "#### Important note\n",
    "<b>You are not allowed to use any library other than numpy and matplotlib (You can use seaborn instead of matplotlib if you wish to do so).</b>"
   ]
  },
  {
   "cell_type": "markdown",
   "metadata": {},
   "source": [
    "### Creating Functions"
   ]
  },
  {
   "cell_type": "code",
   "execution_count": 1,
   "metadata": {},
   "outputs": [],
   "source": [
    "import numpy as np\n",
    "import matplotlib.pyplot as plt\n",
    "plt.style.use(\"seaborn-darkgrid\")"
   ]
  },
  {
   "cell_type": "code",
   "execution_count": 2,
   "metadata": {},
   "outputs": [],
   "source": [
    "def KMeans(K, X, num_iter = 50, max_steps = 100):\n",
    "    best_cluster_centers = np.zeros((K, X.shape[1])) #Initializing best cluster centers to zeros\n",
    "    min_SSE = np.inf #Setting minimum SSE to infinity\n",
    "    \n",
    "    for i in range(num_iter):\n",
    "        #Chosing K random data points as cluster centers without replacement\n",
    "        I = np.random.choice(np.arange(X.shape[0]), K, replace = False)\n",
    "        cluster_centers = X[I]\n",
    "        \n",
    "        for step in range(max_steps):\n",
    "            assigned_clusters = assign_clusters(X, cluster_centers)\n",
    "            \n",
    "            #This condition starts the current iteration again if there are any empty clusters\n",
    "            if(len(np.unique(assigned_clusters)) != K):\n",
    "                break\n",
    "            \n",
    "            prev_cluster_centers = cluster_centers #Storing value of previous cluster centers for later use\n",
    "            for k in range(K):\n",
    "                #Changing cluster centers to mean of data points belonging to one cluster\n",
    "                cluster_centers[k] = np.average(X[assigned_clusters == k], axis = 0)\n",
    "            \n",
    "            if(np.sum(cluster_centers == prev_cluster_centers) == np.size(cluster_centers)):\n",
    "                break #Stop taking steps if cluster centers stop changing\n",
    "        \n",
    "        SSE = calculate_SSE(X, cluster_centers)\n",
    "        \n",
    "        if(SSE < min_SSE):\n",
    "            best_cluster_centers = cluster_centers #Upddate best cluster centers if current SSE is lesser than min_SSE\n",
    "            min_SSE = SSE\n",
    "    \n",
    "    return best_cluster_centers"
   ]
  },
  {
   "cell_type": "code",
   "execution_count": 3,
   "metadata": {},
   "outputs": [],
   "source": [
    "def assign_clusters(X, cluster_centers):\n",
    "    K = cluster_centers.shape[0]\n",
    "    \n",
    "    #Initialize array to store distances of all data points from each cluster center\n",
    "    distances = np.zeros((X.shape[0], K))\n",
    "    \n",
    "    for k in range(K):\n",
    "        #Calculating distances of data points from each cluster center\n",
    "        distances[:, k] = np.sqrt(np.sum((X - cluster_centers[k])**2, axis = 1))\n",
    "    \n",
    "    assigned_clusters = np.argmin(distances, axis = 1) #Assigning closest cluster center to each data point\n",
    "    \n",
    "    return assigned_clusters"
   ]
  },
  {
   "cell_type": "code",
   "execution_count": 4,
   "metadata": {},
   "outputs": [],
   "source": [
    "def calculate_SSE(X, cluster_centers):\n",
    "    assigned_clusters = assign_clusters(X, cluster_centers)\n",
    "    SSE = 0\n",
    "    \n",
    "    for k in range(cluster_centers.shape[0]):\n",
    "        SSE += np.sum((X[assigned_clusters == k] - cluster_centers[k])**2)\n",
    "    \n",
    "    return SSE"
   ]
  },
  {
   "cell_type": "code",
   "execution_count": 5,
   "metadata": {},
   "outputs": [],
   "source": [
    "def plot_elbow(X, K_max = 10):\n",
    "    SSE_list = []\n",
    "    \n",
    "    for i in range(K_max):\n",
    "        cluster_centers = KMeans(i+1, X)\n",
    "        SSE = calculate_SSE(X, cluster_centers)\n",
    "        SSE_list.append(SSE)\n",
    "    \n",
    "    plt.plot(np.arange(1, K_max+1), SSE_list)\n",
    "    plt.title(\"Elbow plot (SSE vs K)\")\n",
    "    plt.ylabel(\"Sum of Squared Errors (SSE)\")\n",
    "    plt.xlabel(\"Number of Clusters (K)\")"
   ]
  },
  {
   "cell_type": "markdown",
   "metadata": {},
   "source": [
    "### Clustering"
   ]
  },
  {
   "cell_type": "code",
   "execution_count": 6,
   "metadata": {},
   "outputs": [],
   "source": [
    "data = np.load(\"data.npy\")"
   ]
  },
  {
   "cell_type": "code",
   "execution_count": 7,
   "metadata": {},
   "outputs": [
    {
     "data": {
      "image/png": "[encoded data removed]",
      "text/plain": [
       "<Figure size 432x288 with 1 Axes>"
      ]
     },
     "metadata": {},
     "output_type": "display_data"
    }
   ],
   "source": [
    "plot_elbow(data)"
   ]
  },
  {
   "cell_type": "markdown",
   "metadata": {},
   "source": [
    "From the elbow plot, we can see that the curve starts to flatten out from K = 3."
   ]
  },
  {
   "cell_type": "code",
   "execution_count": 8,
   "metadata": {},
   "outputs": [
    {
     "data": {
      "text/plain": [
       "array([[5.9296875 , 2.7578125 , 4.4109375 , 1.4390625 ],\n",
       "       [5.006     , 3.418     , 1.464     , 0.244     ],\n",
       "       [6.85277778, 3.075     , 5.78611111, 2.09722222]])"
      ]
     },
     "execution_count": 8,
     "metadata": {},
     "output_type": "execute_result"
    }
   ],
   "source": [
    "KMeans(3, data)"
   ]
  }
 ],
 "metadata": {
  "kernelspec": {
   "display_name": "Python 3",
   "language": "python",
   "name": "python3"
  },
  "language_info": {
   "codemirror_mode": {
    "name": "ipython",
    "version": 3
   },
   "file_extension": ".py",
   "mimetype": "text/x-python",
   "name": "python",
   "nbconvert_exporter": "python",
   "pygments_lexer": "ipython3",
   "version": "3.8.3"
  }
 },
 "nbformat": 4,
 "nbformat_minor": 4
}
