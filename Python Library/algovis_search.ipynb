{
 "cells": [
  {
   "cell_type": "code",
   "execution_count": 1,
   "metadata": {},
   "outputs": [],
   "source": [
    "from algovis import searching"
   ]
  },
  {
   "cell_type": "code",
   "execution_count": 2,
   "metadata": {},
   "outputs": [],
   "source": [
    "my_list = [i+1 for i in range(50)]\n"
   ]
  },
  {
   "cell_type": "markdown",
   "metadata": {},
   "source": [
    "## Binary Search"
   ]
  },
  {
   "cell_type": "code",
   "execution_count": 3,
   "metadata": {},
   "outputs": [],
   "source": [
    "bin_search = searching.BinarySearch(my_list)"
   ]
  },
  {
   "cell_type": "code",
   "execution_count": 4,
   "metadata": {},
   "outputs": [
    {
     "data": {
      "text/html": [
       "<pre style=\"white-space:pre;overflow-x:auto;line-height:normal;font-family:Menlo,'DejaVu Sans Mono',consolas,'Courier New',monospace\"><span style=\"font-style: italic\">                                     Binary search steps                                     </span>\n",
       "┏━━━━━━━━━━━┳━━━━━━━━━━━━┳━━━━━━━━━━━━━━┳━━━━━━━━━━━━━┳━━━━━━━━━━━━━━━━━━━━━━━━━━━━━━━━━━━━━┓\n",
       "┃<span style=\"font-weight: bold\"> Iteration </span>┃<span style=\"font-weight: bold\"> Left index </span>┃<span style=\"font-weight: bold\"> Middle index </span>┃<span style=\"font-weight: bold\"> Right index </span>┃<span style=\"font-weight: bold\">                List                 </span>┃\n",
       "┡━━━━━━━━━━━╇━━━━━━━━━━━━╇━━━━━━━━━━━━━━╇━━━━━━━━━━━━━╇━━━━━━━━━━━━━━━━━━━━━━━━━━━━━━━━━━━━━┩\n",
       "│<span style=\"color: #008080\">     0     </span>│<span style=\"color: #008080\">     0      </span>│<span style=\"color: #008080\">      24      </span>│<span style=\"color: #008080\">     49      </span>│<span style=\"color: #800080\"> 1 2 3 4 5 6 7 8 9 10 11 12 13 14 15 </span>│\n",
       "│           │            │              │             │<span style=\"color: #800080\"> 16 17 18 19 20 21 22 23 24 25 26 27 </span>│\n",
       "│           │            │              │             │<span style=\"color: #800080\"> 28 29 30 31 32 33 34 35 36 37 38 39 </span>│\n",
       "│           │            │              │             │<span style=\"color: #800080\">  40 41 42 43 44 45 46 47 48 49 50   </span>│\n",
       "│<span style=\"color: #008080\">     1     </span>│<span style=\"color: #008080\">     0      </span>│<span style=\"color: #008080\">      11      </span>│<span style=\"color: #008080\">     23      </span>│<span style=\"color: #800080\"> 1 2 3 4 5 6 7 8 9 10 11 12 13 14 15 </span>│\n",
       "│           │            │              │             │<span style=\"color: #800080\">     16 17 18 19 20 21 22 23 24      </span>│\n",
       "│<span style=\"color: #008080\">     2     </span>│<span style=\"color: #008080\">     0      </span>│<span style=\"color: #008080\">      5       </span>│<span style=\"color: #008080\">     10      </span>│<span style=\"color: #800080\">       1 2 3 4 5 6 7 8 9 10 11       </span>│\n",
       "│<span style=\"color: #008080\">     3     </span>│<span style=\"color: #008080\">     6      </span>│<span style=\"color: #008080\">      8       </span>│<span style=\"color: #008080\">     10      </span>│<span style=\"color: #800080\">             7 8 9 10 11             </span>│\n",
       "│<span style=\"color: #008080\">           </span>│<span style=\"color: #008080\">            </span>│<span style=\"color: #008080\">              </span>│<span style=\"color: #008080\">             </span>│<span style=\"color: #800080\">         </span><span style=\"color: #008000; font-weight: bold\">FOUND 9 at index 8</span><span style=\"color: #800080\">          </span>│\n",
       "└───────────┴────────────┴──────────────┴─────────────┴─────────────────────────────────────┘\n",
       "</pre>\n"
      ],
      "text/plain": [
       "<rich.jupyter.JupyterRenderable at 0x10ebc0e10>"
      ]
     },
     "metadata": {},
     "output_type": "display_data"
    }
   ],
   "source": [
    "bin_search.search(9,steps = True)"
   ]
  },
  {
   "cell_type": "code",
   "execution_count": 7,
   "metadata": {},
   "outputs": [
    {
     "data": {
      "image/png": "[encoded data removed]",
      "text/plain": [
       "<Figure size 936x468 with 1 Axes>"
      ]
     },
     "metadata": {},
     "output_type": "display_data"
    }
   ],
   "source": [
    "bin_search.visualize(9, interval = 10)"
   ]
  },
  {
   "cell_type": "code",
   "execution_count": null,
   "metadata": {},
   "outputs": [],
   "source": []
  },
  {
   "cell_type": "markdown",
   "metadata": {},
   "source": [
    "## Linear Search\n"
   ]
  },
  {
   "cell_type": "code",
   "execution_count": 8,
   "metadata": {},
   "outputs": [],
   "source": [
    "lin_search = searching.LinearSearch(my_list)\n"
   ]
  },
  {
   "cell_type": "code",
   "execution_count": 9,
   "metadata": {},
   "outputs": [
    {
     "data": {
      "text/html": [
       "<pre style=\"white-space:pre;overflow-x:auto;line-height:normal;font-family:Menlo,'DejaVu Sans Mono',consolas,'Courier New',monospace\"><span style=\"font-style: italic\">       Linear search steps       </span>\n",
       "┏━━━━━━━━━━┳━━━━━━━━━━━━━━━━━━━━┓\n",
       "┃<span style=\"font-weight: bold\"> At index </span>┃<span style=\"font-weight: bold\"> List               </span>┃\n",
       "┡━━━━━━━━━━╇━━━━━━━━━━━━━━━━━━━━┩\n",
       "│<span style=\"color: #008080\">    0     </span>│<span style=\"color: #800080\"> 1                  </span>│\n",
       "│<span style=\"color: #008080\">    1     </span>│<span style=\"color: #800080\"> 1 2                </span>│\n",
       "│<span style=\"color: #008080\">    2     </span>│<span style=\"color: #800080\"> 1 2 3              </span>│\n",
       "│<span style=\"color: #008080\">    3     </span>│<span style=\"color: #800080\"> 1 2 3 4            </span>│\n",
       "│<span style=\"color: #008080\">    4     </span>│<span style=\"color: #800080\"> 1 2 3 4 5          </span>│\n",
       "│<span style=\"color: #008080\">    5     </span>│<span style=\"color: #800080\"> 1 2 3 4 5 6        </span>│\n",
       "│<span style=\"color: #008080\">    6     </span>│<span style=\"color: #800080\"> 1 2 3 4 5 6 7      </span>│\n",
       "│<span style=\"color: #008080\">    7     </span>│<span style=\"color: #800080\"> 1 2 3 4 5 6 7 8    </span>│\n",
       "│<span style=\"color: #008080\">    8     </span>│<span style=\"color: #800080\"> 1 2 3 4 5 6 7 8 9  </span>│\n",
       "│<span style=\"color: #008080\">  </span><span style=\"color: #008000; font-weight: bold\"> FOUND</span><span style=\"color: #008080\">  </span>│<span style=\"color: #800080\"> </span><span style=\"color: #008000; font-weight: bold\">FOUND 9 at index 8</span><span style=\"color: #800080\"> </span>│\n",
       "└──────────┴────────────────────┘\n",
       "</pre>\n"
      ],
      "text/plain": [
       "<rich.jupyter.JupyterRenderable at 0x10ebd4518>"
      ]
     },
     "metadata": {},
     "output_type": "display_data"
    }
   ],
   "source": [
    "lin_search.search(9,steps = True)"
   ]
  },
  {
   "cell_type": "code",
   "execution_count": 10,
   "metadata": {},
   "outputs": [
    {
     "data": {
      "image/png": "[encoded data removed]",
      "text/plain": [
       "<Figure size 720x360 with 1 Axes>"
      ]
     },
     "metadata": {},
     "output_type": "display_data"
    }
   ],
   "source": [
    "lin_search.visualize(9, interval = 10)"
   ]
  },
  {
   "cell_type": "code",
   "execution_count": null,
   "metadata": {},
   "outputs": [],
   "source": []
  }
 ],
 "metadata": {
  "kernelspec": {
   "display_name": "venv",
   "language": "python",
   "name": "venv"
  },
  "language_info": {
   "codemirror_mode": {
    "name": "ipython",
    "version": 3
   },
   "file_extension": ".py",
   "mimetype": "text/x-python",
   "name": "python",
   "nbconvert_exporter": "python",
   "pygments_lexer": "ipython3",
   "version": "3.7.3"
  }
 },
 "nbformat": 4,
 "nbformat_minor": 2
}
