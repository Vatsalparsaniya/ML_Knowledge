{
 "cells": [
  {
   "cell_type": "markdown",
   "metadata": {},
   "source": [
    "\n",
    "\n",
    "\n",
    "\n",
    "## Selection Sort"
   ]
  },
  {
   "cell_type": "code",
   "execution_count": 69,
   "metadata": {},
   "outputs": [],
   "source": [
    "from algovis import sorting\n",
    "import random"
   ]
  },
  {
   "cell_type": "code",
   "execution_count": 70,
   "metadata": {},
   "outputs": [],
   "source": [
    "my_list = [i+1 for i in range(50)]\n",
    "random.shuffle(my_list)"
   ]
  },
  {
   "cell_type": "code",
   "execution_count": 71,
   "metadata": {},
   "outputs": [],
   "source": [
    "selec_sort = sorting.SelectionSort(my_list)"
   ]
  },
  {
   "cell_type": "code",
   "execution_count": 72,
   "metadata": {},
   "outputs": [
    {
     "data": {
      "text/html": [
       "<pre style=\"white-space:pre;overflow-x:auto;line-height:normal;font-family:Menlo,'DejaVu Sans Mono',consolas,'Courier New',monospace\"><span style=\"font-style: italic\">                                    Selection Sort Steps                                     </span>\n",
       "┏━━━━━━━━━━━┳━━━━━━━━━━━━━━━━━━━━━━━━━━━━━━━━━━━━━━━━━━━━━━━━━━━━━━━━━━━━━━━━━━━━━━━━━━━━━━━┓\n",
       "┃<span style=\"font-weight: bold\"> Iteration </span>┃<span style=\"font-weight: bold\">                                     List                                      </span>┃\n",
       "┡━━━━━━━━━━━╇━━━━━━━━━━━━━━━━━━━━━━━━━━━━━━━━━━━━━━━━━━━━━━━━━━━━━━━━━━━━━━━━━━━━━━━━━━━━━━━┩\n",
       "│<span style=\"color: #008080\">     0     </span>│<span style=\"color: #800080\"> 30 42 24 38 20 47 27 2 13 19 49 46 44 18 5 50 21 9 34 16 1 40 8 17 33 3 48 22 </span>│\n",
       "│           │<span style=\"color: #800080\">        26 41 36 15 11 10 25 32 37 6 14 39 35 23 28 4 43 45 12 7 29 31         </span>│\n",
       "│<span style=\"color: #008080\">     1     </span>│<span style=\"color: #800080\"> 1 42 24 38 20 47 27 2 13 19 49 46 44 18 5 50 21 9 34 16 30 40 8 17 33 3 48 22 </span>│\n",
       "│           │<span style=\"color: #800080\">        26 41 36 15 11 10 25 32 37 6 14 39 35 23 28 4 43 45 12 7 29 31         </span>│\n",
       "│<span style=\"color: #008080\">     2     </span>│<span style=\"color: #800080\"> 1 2 24 38 20 47 27 42 13 19 49 46 44 18 5 50 21 9 34 16 30 40 8 17 33 3 48 22 </span>│\n",
       "│           │<span style=\"color: #800080\">        26 41 36 15 11 10 25 32 37 6 14 39 35 23 28 4 43 45 12 7 29 31         </span>│\n",
       "│<span style=\"color: #008080\">     3     </span>│<span style=\"color: #800080\"> 1 2 3 38 20 47 27 42 13 19 49 46 44 18 5 50 21 9 34 16 30 40 8 17 33 24 48 22 </span>│\n",
       "│           │<span style=\"color: #800080\">        26 41 36 15 11 10 25 32 37 6 14 39 35 23 28 4 43 45 12 7 29 31         </span>│\n",
       "│<span style=\"color: #008080\">     4     </span>│<span style=\"color: #800080\"> 1 2 3 4 20 47 27 42 13 19 49 46 44 18 5 50 21 9 34 16 30 40 8 17 33 24 48 22  </span>│\n",
       "│           │<span style=\"color: #800080\">        26 41 36 15 11 10 25 32 37 6 14 39 35 23 28 38 43 45 12 7 29 31        </span>│\n",
       "│<span style=\"color: #008080\">     5     </span>│<span style=\"color: #800080\"> 1 2 3 4 5 47 27 42 13 19 49 46 44 18 20 50 21 9 34 16 30 40 8 17 33 24 48 22  </span>│\n",
       "│           │<span style=\"color: #800080\">        26 41 36 15 11 10 25 32 37 6 14 39 35 23 28 38 43 45 12 7 29 31        </span>│\n",
       "│<span style=\"color: #008080\">     6     </span>│<span style=\"color: #800080\">  1 2 3 4 5 6 27 42 13 19 49 46 44 18 20 50 21 9 34 16 30 40 8 17 33 24 48 22  </span>│\n",
       "│           │<span style=\"color: #800080\">       26 41 36 15 11 10 25 32 37 47 14 39 35 23 28 38 43 45 12 7 29 31        </span>│\n",
       "│<span style=\"color: #008080\">     7     </span>│<span style=\"color: #800080\"> 1 2 3 4 5 6 7 42 13 19 49 46 44 18 20 50 21 9 34 16 30 40 8 17 33 24 48 22 26 </span>│\n",
       "│           │<span style=\"color: #800080\">        41 36 15 11 10 25 32 37 47 14 39 35 23 28 38 43 45 12 27 29 31         </span>│\n",
       "│<span style=\"color: #008080\">     8     </span>│<span style=\"color: #800080\"> 1 2 3 4 5 6 7 8 13 19 49 46 44 18 20 50 21 9 34 16 30 40 42 17 33 24 48 22 26 </span>│\n",
       "│           │<span style=\"color: #800080\">        41 36 15 11 10 25 32 37 47 14 39 35 23 28 38 43 45 12 27 29 31         </span>│\n",
       "│<span style=\"color: #008080\">     9     </span>│<span style=\"color: #800080\"> 1 2 3 4 5 6 7 8 9 19 49 46 44 18 20 50 21 13 34 16 30 40 42 17 33 24 48 22 26 </span>│\n",
       "│           │<span style=\"color: #800080\">        41 36 15 11 10 25 32 37 47 14 39 35 23 28 38 43 45 12 27 29 31         </span>│\n",
       "│<span style=\"color: #008080\">    10     </span>│<span style=\"color: #800080\"> 1 2 3 4 5 6 7 8 9 10 49 46 44 18 20 50 21 13 34 16 30 40 42 17 33 24 48 22 26 </span>│\n",
       "│           │<span style=\"color: #800080\">        41 36 15 11 19 25 32 37 47 14 39 35 23 28 38 43 45 12 27 29 31         </span>│\n",
       "│<span style=\"color: #008080\">    11     </span>│<span style=\"color: #800080\"> 1 2 3 4 5 6 7 8 9 10 11 46 44 18 20 50 21 13 34 16 30 40 42 17 33 24 48 22 26 </span>│\n",
       "│           │<span style=\"color: #800080\">        41 36 15 49 19 25 32 37 47 14 39 35 23 28 38 43 45 12 27 29 31         </span>│\n",
       "│<span style=\"color: #008080\">    12     </span>│<span style=\"color: #800080\"> 1 2 3 4 5 6 7 8 9 10 11 12 44 18 20 50 21 13 34 16 30 40 42 17 33 24 48 22 26 </span>│\n",
       "│           │<span style=\"color: #800080\">        41 36 15 49 19 25 32 37 47 14 39 35 23 28 38 43 45 46 27 29 31         </span>│\n",
       "│<span style=\"color: #008080\">    13     </span>│<span style=\"color: #800080\"> 1 2 3 4 5 6 7 8 9 10 11 12 13 18 20 50 21 44 34 16 30 40 42 17 33 24 48 22 26 </span>│\n",
       "│           │<span style=\"color: #800080\">        41 36 15 49 19 25 32 37 47 14 39 35 23 28 38 43 45 46 27 29 31         </span>│\n",
       "│<span style=\"color: #008080\">    14     </span>│<span style=\"color: #800080\"> 1 2 3 4 5 6 7 8 9 10 11 12 13 14 20 50 21 44 34 16 30 40 42 17 33 24 48 22 26 </span>│\n",
       "│           │<span style=\"color: #800080\">        41 36 15 49 19 25 32 37 47 18 39 35 23 28 38 43 45 46 27 29 31         </span>│\n",
       "│<span style=\"color: #008080\">    15     </span>│<span style=\"color: #800080\"> 1 2 3 4 5 6 7 8 9 10 11 12 13 14 15 50 21 44 34 16 30 40 42 17 33 24 48 22 26 </span>│\n",
       "│           │<span style=\"color: #800080\">        41 36 20 49 19 25 32 37 47 18 39 35 23 28 38 43 45 46 27 29 31         </span>│\n",
       "│<span style=\"color: #008080\">    16     </span>│<span style=\"color: #800080\"> 1 2 3 4 5 6 7 8 9 10 11 12 13 14 15 16 21 44 34 50 30 40 42 17 33 24 48 22 26 </span>│\n",
       "│           │<span style=\"color: #800080\">        41 36 20 49 19 25 32 37 47 18 39 35 23 28 38 43 45 46 27 29 31         </span>│\n",
       "│<span style=\"color: #008080\">    17     </span>│<span style=\"color: #800080\"> 1 2 3 4 5 6 7 8 9 10 11 12 13 14 15 16 17 44 34 50 30 40 42 21 33 24 48 22 26 </span>│\n",
       "│           │<span style=\"color: #800080\">        41 36 20 49 19 25 32 37 47 18 39 35 23 28 38 43 45 46 27 29 31         </span>│\n",
       "│<span style=\"color: #008080\">    18     </span>│<span style=\"color: #800080\"> 1 2 3 4 5 6 7 8 9 10 11 12 13 14 15 16 17 18 34 50 30 40 42 21 33 24 48 22 26 </span>│\n",
       "│           │<span style=\"color: #800080\">        41 36 20 49 19 25 32 37 47 44 39 35 23 28 38 43 45 46 27 29 31         </span>│\n",
       "│<span style=\"color: #008080\">    19     </span>│<span style=\"color: #800080\"> 1 2 3 4 5 6 7 8 9 10 11 12 13 14 15 16 17 18 19 50 30 40 42 21 33 24 48 22 26 </span>│\n",
       "│           │<span style=\"color: #800080\">        41 36 20 49 34 25 32 37 47 44 39 35 23 28 38 43 45 46 27 29 31         </span>│\n",
       "│<span style=\"color: #008080\">    20     </span>│<span style=\"color: #800080\"> 1 2 3 4 5 6 7 8 9 10 11 12 13 14 15 16 17 18 19 20 30 40 42 21 33 24 48 22 26 </span>│\n",
       "│           │<span style=\"color: #800080\">        41 36 50 49 34 25 32 37 47 44 39 35 23 28 38 43 45 46 27 29 31         </span>│\n",
       "│<span style=\"color: #008080\">    21     </span>│<span style=\"color: #800080\"> 1 2 3 4 5 6 7 8 9 10 11 12 13 14 15 16 17 18 19 20 21 40 42 30 33 24 48 22 26 </span>│\n",
       "│           │<span style=\"color: #800080\">        41 36 50 49 34 25 32 37 47 44 39 35 23 28 38 43 45 46 27 29 31         </span>│\n",
       "│<span style=\"color: #008080\">    22     </span>│<span style=\"color: #800080\"> 1 2 3 4 5 6 7 8 9 10 11 12 13 14 15 16 17 18 19 20 21 22 42 30 33 24 48 40 26 </span>│\n",
       "│           │<span style=\"color: #800080\">        41 36 50 49 34 25 32 37 47 44 39 35 23 28 38 43 45 46 27 29 31         </span>│\n",
       "│<span style=\"color: #008080\">    23     </span>│<span style=\"color: #800080\"> 1 2 3 4 5 6 7 8 9 10 11 12 13 14 15 16 17 18 19 20 21 22 23 30 33 24 48 40 26 </span>│\n",
       "│           │<span style=\"color: #800080\">        41 36 50 49 34 25 32 37 47 44 39 35 42 28 38 43 45 46 27 29 31         </span>│\n",
       "│<span style=\"color: #008080\">    24     </span>│<span style=\"color: #800080\"> 1 2 3 4 5 6 7 8 9 10 11 12 13 14 15 16 17 18 19 20 21 22 23 24 33 30 48 40 26 </span>│\n",
       "│           │<span style=\"color: #800080\">        41 36 50 49 34 25 32 37 47 44 39 35 42 28 38 43 45 46 27 29 31         </span>│\n",
       "│<span style=\"color: #008080\">    25     </span>│<span style=\"color: #800080\"> 1 2 3 4 5 6 7 8 9 10 11 12 13 14 15 16 17 18 19 20 21 22 23 24 25 30 48 40 26 </span>│\n",
       "│           │<span style=\"color: #800080\">        41 36 50 49 34 33 32 37 47 44 39 35 42 28 38 43 45 46 27 29 31         </span>│\n",
       "│<span style=\"color: #008080\">    26     </span>│<span style=\"color: #800080\"> 1 2 3 4 5 6 7 8 9 10 11 12 13 14 15 16 17 18 19 20 21 22 23 24 25 26 48 40 30 </span>│\n",
       "│           │<span style=\"color: #800080\">        41 36 50 49 34 33 32 37 47 44 39 35 42 28 38 43 45 46 27 29 31         </span>│\n",
       "│<span style=\"color: #008080\">    27     </span>│<span style=\"color: #800080\"> 1 2 3 4 5 6 7 8 9 10 11 12 13 14 15 16 17 18 19 20 21 22 23 24 25 26 27 40 30 </span>│\n",
       "│           │<span style=\"color: #800080\">        41 36 50 49 34 33 32 37 47 44 39 35 42 28 38 43 45 46 48 29 31         </span>│\n",
       "│<span style=\"color: #008080\">    28     </span>│<span style=\"color: #800080\"> 1 2 3 4 5 6 7 8 9 10 11 12 13 14 15 16 17 18 19 20 21 22 23 24 25 26 27 28 30 </span>│\n",
       "│           │<span style=\"color: #800080\">        41 36 50 49 34 33 32 37 47 44 39 35 42 40 38 43 45 46 48 29 31         </span>│\n",
       "│<span style=\"color: #008080\">    29     </span>│<span style=\"color: #800080\"> 1 2 3 4 5 6 7 8 9 10 11 12 13 14 15 16 17 18 19 20 21 22 23 24 25 26 27 28 29 </span>│\n",
       "│           │<span style=\"color: #800080\">        41 36 50 49 34 33 32 37 47 44 39 35 42 40 38 43 45 46 48 30 31         </span>│\n",
       "│<span style=\"color: #008080\">    30     </span>│<span style=\"color: #800080\"> 1 2 3 4 5 6 7 8 9 10 11 12 13 14 15 16 17 18 19 20 21 22 23 24 25 26 27 28 29 </span>│\n",
       "│           │<span style=\"color: #800080\">        30 36 50 49 34 33 32 37 47 44 39 35 42 40 38 43 45 46 48 41 31         </span>│\n",
       "│<span style=\"color: #008080\">    31     </span>│<span style=\"color: #800080\"> 1 2 3 4 5 6 7 8 9 10 11 12 13 14 15 16 17 18 19 20 21 22 23 24 25 26 27 28 29 </span>│\n",
       "│           │<span style=\"color: #800080\">        30 31 50 49 34 33 32 37 47 44 39 35 42 40 38 43 45 46 48 41 36         </span>│\n",
       "│<span style=\"color: #008080\">    32     </span>│<span style=\"color: #800080\"> 1 2 3 4 5 6 7 8 9 10 11 12 13 14 15 16 17 18 19 20 21 22 23 24 25 26 27 28 29 </span>│\n",
       "│           │<span style=\"color: #800080\">        30 31 32 49 34 33 50 37 47 44 39 35 42 40 38 43 45 46 48 41 36         </span>│\n",
       "│<span style=\"color: #008080\">    33     </span>│<span style=\"color: #800080\"> 1 2 3 4 5 6 7 8 9 10 11 12 13 14 15 16 17 18 19 20 21 22 23 24 25 26 27 28 29 </span>│\n",
       "│           │<span style=\"color: #800080\">        30 31 32 33 34 49 50 37 47 44 39 35 42 40 38 43 45 46 48 41 36         </span>│\n",
       "│<span style=\"color: #008080\">    34     </span>│<span style=\"color: #800080\"> 1 2 3 4 5 6 7 8 9 10 11 12 13 14 15 16 17 18 19 20 21 22 23 24 25 26 27 28 29 </span>│\n",
       "│           │<span style=\"color: #800080\">        30 31 32 33 34 49 50 37 47 44 39 35 42 40 38 43 45 46 48 41 36         </span>│\n",
       "│<span style=\"color: #008080\">    35     </span>│<span style=\"color: #800080\"> 1 2 3 4 5 6 7 8 9 10 11 12 13 14 15 16 17 18 19 20 21 22 23 24 25 26 27 28 29 </span>│\n",
       "│           │<span style=\"color: #800080\">        30 31 32 33 34 35 50 37 47 44 39 49 42 40 38 43 45 46 48 41 36         </span>│\n",
       "│<span style=\"color: #008080\">    36     </span>│<span style=\"color: #800080\"> 1 2 3 4 5 6 7 8 9 10 11 12 13 14 15 16 17 18 19 20 21 22 23 24 25 26 27 28 29 </span>│\n",
       "│           │<span style=\"color: #800080\">        30 31 32 33 34 35 36 37 47 44 39 49 42 40 38 43 45 46 48 41 50         </span>│\n",
       "│<span style=\"color: #008080\">    37     </span>│<span style=\"color: #800080\"> 1 2 3 4 5 6 7 8 9 10 11 12 13 14 15 16 17 18 19 20 21 22 23 24 25 26 27 28 29 </span>│\n",
       "│           │<span style=\"color: #800080\">        30 31 32 33 34 35 36 37 47 44 39 49 42 40 38 43 45 46 48 41 50         </span>│\n",
       "│<span style=\"color: #008080\">    38     </span>│<span style=\"color: #800080\"> 1 2 3 4 5 6 7 8 9 10 11 12 13 14 15 16 17 18 19 20 21 22 23 24 25 26 27 28 29 </span>│\n",
       "│           │<span style=\"color: #800080\">        30 31 32 33 34 35 36 37 38 44 39 49 42 40 47 43 45 46 48 41 50         </span>│\n",
       "│<span style=\"color: #008080\">    39     </span>│<span style=\"color: #800080\"> 1 2 3 4 5 6 7 8 9 10 11 12 13 14 15 16 17 18 19 20 21 22 23 24 25 26 27 28 29 </span>│\n",
       "│           │<span style=\"color: #800080\">        30 31 32 33 34 35 36 37 38 39 44 49 42 40 47 43 45 46 48 41 50         </span>│\n",
       "│<span style=\"color: #008080\">    40     </span>│<span style=\"color: #800080\"> 1 2 3 4 5 6 7 8 9 10 11 12 13 14 15 16 17 18 19 20 21 22 23 24 25 26 27 28 29 </span>│\n",
       "│           │<span style=\"color: #800080\">        30 31 32 33 34 35 36 37 38 39 40 49 42 44 47 43 45 46 48 41 50         </span>│\n",
       "│<span style=\"color: #008080\">    41     </span>│<span style=\"color: #800080\"> 1 2 3 4 5 6 7 8 9 10 11 12 13 14 15 16 17 18 19 20 21 22 23 24 25 26 27 28 29 </span>│\n",
       "│           │<span style=\"color: #800080\">        30 31 32 33 34 35 36 37 38 39 40 41 42 44 47 43 45 46 48 49 50         </span>│\n",
       "│<span style=\"color: #008080\">    42     </span>│<span style=\"color: #800080\"> 1 2 3 4 5 6 7 8 9 10 11 12 13 14 15 16 17 18 19 20 21 22 23 24 25 26 27 28 29 </span>│\n",
       "│           │<span style=\"color: #800080\">        30 31 32 33 34 35 36 37 38 39 40 41 42 44 47 43 45 46 48 49 50         </span>│\n",
       "│<span style=\"color: #008080\">    43     </span>│<span style=\"color: #800080\"> 1 2 3 4 5 6 7 8 9 10 11 12 13 14 15 16 17 18 19 20 21 22 23 24 25 26 27 28 29 </span>│\n",
       "│           │<span style=\"color: #800080\">        30 31 32 33 34 35 36 37 38 39 40 41 42 43 47 44 45 46 48 49 50         </span>│\n",
       "│<span style=\"color: #008080\">    44     </span>│<span style=\"color: #800080\"> 1 2 3 4 5 6 7 8 9 10 11 12 13 14 15 16 17 18 19 20 21 22 23 24 25 26 27 28 29 </span>│\n",
       "│           │<span style=\"color: #800080\">        30 31 32 33 34 35 36 37 38 39 40 41 42 43 44 47 45 46 48 49 50         </span>│\n",
       "│<span style=\"color: #008080\">    45     </span>│<span style=\"color: #800080\"> 1 2 3 4 5 6 7 8 9 10 11 12 13 14 15 16 17 18 19 20 21 22 23 24 25 26 27 28 29 </span>│\n",
       "│           │<span style=\"color: #800080\">        30 31 32 33 34 35 36 37 38 39 40 41 42 43 44 45 47 46 48 49 50         </span>│\n",
       "│<span style=\"color: #008080\">    46     </span>│<span style=\"color: #800080\"> 1 2 3 4 5 6 7 8 9 10 11 12 13 14 15 16 17 18 19 20 21 22 23 24 25 26 27 28 29 </span>│\n",
       "│           │<span style=\"color: #800080\">        30 31 32 33 34 35 36 37 38 39 40 41 42 43 44 45 46 47 48 49 50         </span>│\n",
       "│<span style=\"color: #008080\">    47     </span>│<span style=\"color: #800080\"> 1 2 3 4 5 6 7 8 9 10 11 12 13 14 15 16 17 18 19 20 21 22 23 24 25 26 27 28 29 </span>│\n",
       "│           │<span style=\"color: #800080\">        30 31 32 33 34 35 36 37 38 39 40 41 42 43 44 45 46 47 48 49 50         </span>│\n",
       "│<span style=\"color: #008080\">    48     </span>│<span style=\"color: #800080\"> 1 2 3 4 5 6 7 8 9 10 11 12 13 14 15 16 17 18 19 20 21 22 23 24 25 26 27 28 29 </span>│\n",
       "│           │<span style=\"color: #800080\">        30 31 32 33 34 35 36 37 38 39 40 41 42 43 44 45 46 47 48 49 50         </span>│\n",
       "│<span style=\"color: #008080\">    49     </span>│<span style=\"color: #800080\"> 1 2 3 4 5 6 7 8 9 10 11 12 13 14 15 16 17 18 19 20 21 22 23 24 25 26 27 28 29 </span>│\n",
       "│           │<span style=\"color: #800080\">        30 31 32 33 34 35 36 37 38 39 40 41 42 43 44 45 46 47 48 49 50         </span>│\n",
       "│<span style=\"color: #008080\">    50     </span>│<span style=\"color: #800080\"> 1 2 3 4 5 6 7 8 9 10 11 12 13 14 15 16 17 18 19 20 21 22 23 24 25 26 27 28 29 </span>│\n",
       "│           │<span style=\"color: #800080\">        30 31 32 33 34 35 36 37 38 39 40 41 42 43 44 45 46 47 48 49 50         </span>│\n",
       "└───────────┴───────────────────────────────────────────────────────────────────────────────┘\n",
       "</pre>\n"
      ],
      "text/plain": [
       "<rich.jupyter.JupyterRenderable at 0x1121520f0>"
      ]
     },
     "metadata": {},
     "output_type": "display_data"
    },
    {
     "data": {
      "text/plain": [
       "[1,\n",
       " 2,\n",
       " 3,\n",
       " 4,\n",
       " 5,\n",
       " 6,\n",
       " 7,\n",
       " 8,\n",
       " 9,\n",
       " 10,\n",
       " 11,\n",
       " 12,\n",
       " 13,\n",
       " 14,\n",
       " 15,\n",
       " 16,\n",
       " 17,\n",
       " 18,\n",
       " 19,\n",
       " 20,\n",
       " 21,\n",
       " 22,\n",
       " 23,\n",
       " 24,\n",
       " 25,\n",
       " 26,\n",
       " 27,\n",
       " 28,\n",
       " 29,\n",
       " 30,\n",
       " 31,\n",
       " 32,\n",
       " 33,\n",
       " 34,\n",
       " 35,\n",
       " 36,\n",
       " 37,\n",
       " 38,\n",
       " 39,\n",
       " 40,\n",
       " 41,\n",
       " 42,\n",
       " 43,\n",
       " 44,\n",
       " 45,\n",
       " 46,\n",
       " 47,\n",
       " 48,\n",
       " 49,\n",
       " 50]"
      ]
     },
     "execution_count": 72,
     "metadata": {},
     "output_type": "execute_result"
    }
   ],
   "source": [
    "selec_sort.sort(steps = True)"
   ]
  },
  {
   "cell_type": "code",
   "execution_count": 73,
   "metadata": {},
   "outputs": [
    {
     "data": {
      "image/png": "[encoded data removed]",
      "text/plain": [
       "<Figure size 936x468 with 1 Axes>"
      ]
     },
     "metadata": {},
     "output_type": "display_data"
    }
   ],
   "source": [
    "selec_sort.visualize(interval = 10)"
   ]
  },
  {
   "cell_type": "code",
   "execution_count": 74,
   "metadata": {},
   "outputs": [
    {
     "data": {
      "text/html": [
       "<pre style=\"white-space:pre;overflow-x:auto;line-height:normal;font-family:Menlo,'DejaVu Sans Mono',consolas,'Courier New',monospace\"><span style=\"font-style: italic\">        Selection Sort Evaluation         </span>\n",
       "┏━━━━━━━━━━━━━━┳━━━━━━━━━━━┳━━━━━━━━━━━━━┓\n",
       "┃<span style=\"font-weight: bold\">    Metric    </span>┃<span style=\"font-weight: bold\"> Time (ns) </span>┃<span style=\"font-weight: bold\"> Time (sec)  </span>┃\n",
       "┡━━━━━━━━━━━━━━╇━━━━━━━━━━━╇━━━━━━━━━━━━━┩\n",
       "│<span style=\"color: #008080\"> Minimum Time </span>│<span style=\"color: #800080\">  122360   </span>│<span style=\"color: #800080\"> 0.000122360 </span>│\n",
       "│<span style=\"color: #008080\"> Maximum Time </span>│<span style=\"color: #800080\">  3348069  </span>│<span style=\"color: #800080\"> 0.003348069 </span>│\n",
       "│<span style=\"color: #008080\"> Average Time </span>│<span style=\"color: #800080\">  305393   </span>│<span style=\"color: #800080\"> 0.000305393 </span>│\n",
       "└──────────────┴───────────┴─────────────┘\n",
       "</pre>\n"
      ],
      "text/plain": [
       "<rich.jupyter.JupyterRenderable at 0x112197f28>"
      ]
     },
     "metadata": {},
     "output_type": "display_data"
    }
   ],
   "source": [
    "selec_sort.evaluate(iterations = 50)"
   ]
  },
  {
   "cell_type": "markdown",
   "metadata": {},
   "source": [
    "## Insertion Sort"
   ]
  },
  {
   "cell_type": "code",
   "execution_count": 75,
   "metadata": {},
   "outputs": [],
   "source": [
    "from algovis import sorting"
   ]
  },
  {
   "cell_type": "code",
   "execution_count": 76,
   "metadata": {},
   "outputs": [],
   "source": [
    "my_list = [32,65,7,87,90,1,69,9,3,0,2,45,123,284,98,54,90,93,135,76,34,52,6,43,8,11]"
   ]
  },
  {
   "cell_type": "code",
   "execution_count": 77,
   "metadata": {},
   "outputs": [],
   "source": [
    "inser_sort = sorting.InsertionSort(my_list)"
   ]
  },
  {
   "cell_type": "code",
   "execution_count": 78,
   "metadata": {},
   "outputs": [
    {
     "data": {
      "text/html": [
       "<pre style=\"white-space:pre;overflow-x:auto;line-height:normal;font-family:Menlo,'DejaVu Sans Mono',consolas,'Courier New',monospace\"><span style=\"font-style: italic\">                                  Insertion Sort Steps                                  </span>\n",
       "┏━━━━━━━━━━━┳━━━━━━━━━━━━━━━━━━━━━━━━━━━━━━━━━━━━━━━━━━━━━━━━━━━━━━━━━━━━━━━━━━━━━━━━━━┓\n",
       "┃<span style=\"font-weight: bold\"> Iteration </span>┃<span style=\"font-weight: bold\">                                   List                                   </span>┃\n",
       "┡━━━━━━━━━━━╇━━━━━━━━━━━━━━━━━━━━━━━━━━━━━━━━━━━━━━━━━━━━━━━━━━━━━━━━━━━━━━━━━━━━━━━━━━┩\n",
       "│<span style=\"color: #008080\">     0     </span>│<span style=\"color: #800080\"> 32 65 7 87 90 1 69 9 3 0 2 45 123 284 98 54 90 93 135 76 34 52 6 43 8 11 </span>│\n",
       "│<span style=\"color: #008080\">     1     </span>│<span style=\"color: #800080\"> 32 65 7 87 90 1 69 9 3 0 2 45 123 284 98 54 90 93 135 76 34 52 6 43 8 11 </span>│\n",
       "│<span style=\"color: #008080\">     2     </span>│<span style=\"color: #800080\"> 7 32 65 87 90 1 69 9 3 0 2 45 123 284 98 54 90 93 135 76 34 52 6 43 8 11 </span>│\n",
       "│<span style=\"color: #008080\">     3     </span>│<span style=\"color: #800080\"> 7 32 65 87 90 1 69 9 3 0 2 45 123 284 98 54 90 93 135 76 34 52 6 43 8 11 </span>│\n",
       "│<span style=\"color: #008080\">     4     </span>│<span style=\"color: #800080\"> 7 32 65 87 90 1 69 9 3 0 2 45 123 284 98 54 90 93 135 76 34 52 6 43 8 11 </span>│\n",
       "│<span style=\"color: #008080\">     5     </span>│<span style=\"color: #800080\"> 1 7 32 65 87 90 69 9 3 0 2 45 123 284 98 54 90 93 135 76 34 52 6 43 8 11 </span>│\n",
       "│<span style=\"color: #008080\">     6     </span>│<span style=\"color: #800080\"> 1 7 32 65 69 87 90 9 3 0 2 45 123 284 98 54 90 93 135 76 34 52 6 43 8 11 </span>│\n",
       "│<span style=\"color: #008080\">     7     </span>│<span style=\"color: #800080\"> 1 7 9 32 65 69 87 90 3 0 2 45 123 284 98 54 90 93 135 76 34 52 6 43 8 11 </span>│\n",
       "│<span style=\"color: #008080\">     8     </span>│<span style=\"color: #800080\"> 1 3 7 9 32 65 69 87 90 0 2 45 123 284 98 54 90 93 135 76 34 52 6 43 8 11 </span>│\n",
       "│<span style=\"color: #008080\">     9     </span>│<span style=\"color: #800080\"> 0 1 3 7 9 32 65 69 87 90 2 45 123 284 98 54 90 93 135 76 34 52 6 43 8 11 </span>│\n",
       "│<span style=\"color: #008080\">    10     </span>│<span style=\"color: #800080\"> 0 1 2 3 7 9 32 65 69 87 90 45 123 284 98 54 90 93 135 76 34 52 6 43 8 11 </span>│\n",
       "│<span style=\"color: #008080\">    11     </span>│<span style=\"color: #800080\"> 0 1 2 3 7 9 32 45 65 69 87 90 123 284 98 54 90 93 135 76 34 52 6 43 8 11 </span>│\n",
       "│<span style=\"color: #008080\">    12     </span>│<span style=\"color: #800080\"> 0 1 2 3 7 9 32 45 65 69 87 90 123 284 98 54 90 93 135 76 34 52 6 43 8 11 </span>│\n",
       "│<span style=\"color: #008080\">    13     </span>│<span style=\"color: #800080\"> 0 1 2 3 7 9 32 45 65 69 87 90 123 284 98 54 90 93 135 76 34 52 6 43 8 11 </span>│\n",
       "│<span style=\"color: #008080\">    14     </span>│<span style=\"color: #800080\"> 0 1 2 3 7 9 32 45 65 69 87 90 98 123 284 54 90 93 135 76 34 52 6 43 8 11 </span>│\n",
       "│<span style=\"color: #008080\">    15     </span>│<span style=\"color: #800080\"> 0 1 2 3 7 9 32 45 54 65 69 87 90 98 123 284 90 93 135 76 34 52 6 43 8 11 </span>│\n",
       "│<span style=\"color: #008080\">    16     </span>│<span style=\"color: #800080\"> 0 1 2 3 7 9 32 45 54 65 69 87 90 90 98 123 284 93 135 76 34 52 6 43 8 11 </span>│\n",
       "│<span style=\"color: #008080\">    17     </span>│<span style=\"color: #800080\"> 0 1 2 3 7 9 32 45 54 65 69 87 90 90 93 98 123 284 135 76 34 52 6 43 8 11 </span>│\n",
       "│<span style=\"color: #008080\">    18     </span>│<span style=\"color: #800080\"> 0 1 2 3 7 9 32 45 54 65 69 87 90 90 93 98 123 135 284 76 34 52 6 43 8 11 </span>│\n",
       "│<span style=\"color: #008080\">    19     </span>│<span style=\"color: #800080\"> 0 1 2 3 7 9 32 45 54 65 69 76 87 90 90 93 98 123 135 284 34 52 6 43 8 11 </span>│\n",
       "│<span style=\"color: #008080\">    20     </span>│<span style=\"color: #800080\"> 0 1 2 3 7 9 32 34 45 54 65 69 76 87 90 90 93 98 123 135 284 52 6 43 8 11 </span>│\n",
       "│<span style=\"color: #008080\">    21     </span>│<span style=\"color: #800080\"> 0 1 2 3 7 9 32 34 45 52 54 65 69 76 87 90 90 93 98 123 135 284 6 43 8 11 </span>│\n",
       "│<span style=\"color: #008080\">    22     </span>│<span style=\"color: #800080\"> 0 1 2 3 6 7 9 32 34 45 52 54 65 69 76 87 90 90 93 98 123 135 284 43 8 11 </span>│\n",
       "│<span style=\"color: #008080\">    23     </span>│<span style=\"color: #800080\"> 0 1 2 3 6 7 9 32 34 43 45 52 54 65 69 76 87 90 90 93 98 123 135 284 8 11 </span>│\n",
       "│<span style=\"color: #008080\">    24     </span>│<span style=\"color: #800080\"> 0 1 2 3 6 7 8 9 32 34 43 45 52 54 65 69 76 87 90 90 93 98 123 135 284 11 </span>│\n",
       "│<span style=\"color: #008080\">    25     </span>│<span style=\"color: #800080\"> 0 1 2 3 6 7 8 9 11 32 34 43 45 52 54 65 69 76 87 90 90 93 98 123 135 284 </span>│\n",
       "└───────────┴──────────────────────────────────────────────────────────────────────────┘\n",
       "</pre>\n"
      ],
      "text/plain": [
       "<rich.jupyter.JupyterRenderable at 0x1123311d0>"
      ]
     },
     "metadata": {},
     "output_type": "display_data"
    },
    {
     "data": {
      "text/plain": [
       "[0,\n",
       " 1,\n",
       " 2,\n",
       " 3,\n",
       " 6,\n",
       " 7,\n",
       " 8,\n",
       " 9,\n",
       " 11,\n",
       " 32,\n",
       " 34,\n",
       " 43,\n",
       " 45,\n",
       " 52,\n",
       " 54,\n",
       " 65,\n",
       " 69,\n",
       " 76,\n",
       " 87,\n",
       " 90,\n",
       " 90,\n",
       " 93,\n",
       " 98,\n",
       " 123,\n",
       " 135,\n",
       " 284]"
      ]
     },
     "execution_count": 78,
     "metadata": {},
     "output_type": "execute_result"
    }
   ],
   "source": [
    "inser_sort.sort(steps = True)"
   ]
  },
  {
   "cell_type": "code",
   "execution_count": 79,
   "metadata": {},
   "outputs": [
    {
     "data": {
      "image/png": "[encoded data removed]",
      "text/plain": [
       "<Figure size 936x468 with 1 Axes>"
      ]
     },
     "metadata": {},
     "output_type": "display_data"
    }
   ],
   "source": [
    "inser_sort.visualize(interval = 100)"
   ]
  },
  {
   "cell_type": "code",
   "execution_count": 80,
   "metadata": {},
   "outputs": [
    {
     "data": {
      "text/html": [
       "<pre style=\"white-space:pre;overflow-x:auto;line-height:normal;font-family:Menlo,'DejaVu Sans Mono',consolas,'Courier New',monospace\"><span style=\"font-style: italic\">        Insertion Sort Evaluation         </span>\n",
       "┏━━━━━━━━━━━━━━┳━━━━━━━━━━━┳━━━━━━━━━━━━━┓\n",
       "┃<span style=\"font-weight: bold\">    Metric    </span>┃<span style=\"font-weight: bold\"> Time (ns) </span>┃<span style=\"font-weight: bold\"> Time (sec)  </span>┃\n",
       "┡━━━━━━━━━━━━━━╇━━━━━━━━━━━╇━━━━━━━━━━━━━┩\n",
       "│<span style=\"color: #008080\"> Minimum Time </span>│<span style=\"color: #800080\">   58451   </span>│<span style=\"color: #800080\"> 0.000058451 </span>│\n",
       "│<span style=\"color: #008080\"> Maximum Time </span>│<span style=\"color: #800080\">   58451   </span>│<span style=\"color: #800080\"> 0.000058451 </span>│\n",
       "│<span style=\"color: #008080\"> Average Time </span>│<span style=\"color: #800080\">   58451   </span>│<span style=\"color: #800080\"> 0.000058451 </span>│\n",
       "└──────────────┴───────────┴─────────────┘\n",
       "</pre>\n"
      ],
      "text/plain": [
       "<rich.jupyter.JupyterRenderable at 0x112174a20>"
      ]
     },
     "metadata": {},
     "output_type": "display_data"
    }
   ],
   "source": [
    "inser_sort.evaluate()"
   ]
  },
  {
   "cell_type": "markdown",
   "metadata": {},
   "source": [
    "\n",
    "\n",
    "## Merge Sort"
   ]
  },
  {
   "cell_type": "code",
   "execution_count": 81,
   "metadata": {},
   "outputs": [],
   "source": [
    "from algovis import sorting\n",
    "#import random"
   ]
  },
  {
   "cell_type": "code",
   "execution_count": 87,
   "metadata": {},
   "outputs": [],
   "source": [
    "#my_list = [i+1 for i in range(50)]\n",
    "#random.shuffle(my_list)\n",
    "my_list = [31,45,53,2,8,65,76,94,12,21,90,17,13,10,3,4]"
   ]
  },
  {
   "cell_type": "code",
   "execution_count": 88,
   "metadata": {},
   "outputs": [],
   "source": [
    "merge_sort = sorting.MergeSort(my_list)"
   ]
  },
  {
   "cell_type": "code",
   "execution_count": 89,
   "metadata": {},
   "outputs": [
    {
     "data": {
      "text/html": [
       "<pre style=\"white-space:pre;overflow-x:auto;line-height:normal;font-family:Menlo,'DejaVu Sans Mono',consolas,'Courier New',monospace\"><span style=\"font-style: italic\">                     Merge Sort Steps                      </span>\n",
       "┏━━━━━━━━━━━┳━━━━━━━━━━━━━━━━━━━━━━━━━━━━━━━━━━━━━━━━━━━━━┓\n",
       "┃<span style=\"font-weight: bold\"> Iteration </span>┃<span style=\"font-weight: bold\">                    List                     </span>┃\n",
       "┡━━━━━━━━━━━╇━━━━━━━━━━━━━━━━━━━━━━━━━━━━━━━━━━━━━━━━━━━━━┩\n",
       "│<span style=\"color: #008080\">     0     </span>│<span style=\"color: #800080\"> 31 45 53 2 8 65 76 94 12 21 90 17 13 10 3 4 </span>│\n",
       "│<span style=\"color: #008080\">     1     </span>│<span style=\"color: #800080\"> 31 45 53 2 8 65 76 94 12 21 90 17 13 10 3 4 </span>│\n",
       "│<span style=\"color: #008080\">     2     </span>│<span style=\"color: #800080\"> 31 45 53 2 8 65 76 94 12 21 90 17 13 10 3 4 </span>│\n",
       "│<span style=\"color: #008080\">     3     </span>│<span style=\"color: #800080\"> 31 45 2 53 8 65 76 94 12 21 90 17 13 10 3 4 </span>│\n",
       "│<span style=\"color: #008080\">     4     </span>│<span style=\"color: #800080\"> 31 45 2 53 8 65 76 94 12 21 90 17 13 10 3 4 </span>│\n",
       "│<span style=\"color: #008080\">     5     </span>│<span style=\"color: #800080\"> 2 31 45 53 8 65 76 94 12 21 90 17 13 10 3 4 </span>│\n",
       "│<span style=\"color: #008080\">     6     </span>│<span style=\"color: #800080\"> 2 31 45 53 8 65 76 94 12 21 90 17 13 10 3 4 </span>│\n",
       "│<span style=\"color: #008080\">     7     </span>│<span style=\"color: #800080\"> 2 31 45 53 8 65 76 94 12 21 90 17 13 10 3 4 </span>│\n",
       "│<span style=\"color: #008080\">     8     </span>│<span style=\"color: #800080\"> 2 31 45 53 8 65 76 94 12 21 90 17 13 10 3 4 </span>│\n",
       "│<span style=\"color: #008080\">     9     </span>│<span style=\"color: #800080\"> 2 31 45 53 8 65 76 94 12 21 90 17 13 10 3 4 </span>│\n",
       "│<span style=\"color: #008080\">    10     </span>│<span style=\"color: #800080\"> 2 31 45 53 8 65 76 94 12 21 90 17 13 10 3 4 </span>│\n",
       "│<span style=\"color: #008080\">    11     </span>│<span style=\"color: #800080\"> 2 31 45 53 8 65 76 94 12 21 90 17 13 10 3 4 </span>│\n",
       "│<span style=\"color: #008080\">    12     </span>│<span style=\"color: #800080\"> 2 31 45 53 8 65 76 94 12 21 90 17 13 10 3 4 </span>│\n",
       "│<span style=\"color: #008080\">    13     </span>│<span style=\"color: #800080\"> 2 8 31 45 53 65 76 94 12 21 90 17 13 10 3 4 </span>│\n",
       "│<span style=\"color: #008080\">    14     </span>│<span style=\"color: #800080\"> 2 8 31 45 53 65 76 94 12 21 90 17 13 10 3 4 </span>│\n",
       "│<span style=\"color: #008080\">    15     </span>│<span style=\"color: #800080\"> 2 8 31 45 53 65 76 94 12 21 90 17 13 10 3 4 </span>│\n",
       "│<span style=\"color: #008080\">    16     </span>│<span style=\"color: #800080\"> 2 8 31 45 53 65 76 94 12 21 90 17 13 10 3 4 </span>│\n",
       "│<span style=\"color: #008080\">    17     </span>│<span style=\"color: #800080\"> 2 8 31 45 53 65 76 94 12 21 17 90 13 10 3 4 </span>│\n",
       "│<span style=\"color: #008080\">    18     </span>│<span style=\"color: #800080\"> 2 8 31 45 53 65 76 94 12 21 17 90 13 10 3 4 </span>│\n",
       "│<span style=\"color: #008080\">    19     </span>│<span style=\"color: #800080\"> 2 8 31 45 53 65 76 94 12 17 21 90 13 10 3 4 </span>│\n",
       "│<span style=\"color: #008080\">    20     </span>│<span style=\"color: #800080\"> 2 8 31 45 53 65 76 94 12 17 21 90 13 10 3 4 </span>│\n",
       "│<span style=\"color: #008080\">    21     </span>│<span style=\"color: #800080\"> 2 8 31 45 53 65 76 94 12 17 21 90 10 13 3 4 </span>│\n",
       "│<span style=\"color: #008080\">    22     </span>│<span style=\"color: #800080\"> 2 8 31 45 53 65 76 94 12 17 21 90 10 13 3 4 </span>│\n",
       "│<span style=\"color: #008080\">    23     </span>│<span style=\"color: #800080\"> 2 8 31 45 53 65 76 94 12 17 21 90 10 13 3 4 </span>│\n",
       "│<span style=\"color: #008080\">    24     </span>│<span style=\"color: #800080\"> 2 8 31 45 53 65 76 94 12 17 21 90 10 13 3 4 </span>│\n",
       "│<span style=\"color: #008080\">    25     </span>│<span style=\"color: #800080\"> 2 8 31 45 53 65 76 94 12 17 21 90 3 4 10 13 </span>│\n",
       "│<span style=\"color: #008080\">    26     </span>│<span style=\"color: #800080\"> 2 8 31 45 53 65 76 94 12 17 21 90 3 4 10 13 </span>│\n",
       "│<span style=\"color: #008080\">    27     </span>│<span style=\"color: #800080\"> 2 8 31 45 53 65 76 94 3 4 10 12 13 17 21 90 </span>│\n",
       "│<span style=\"color: #008080\">    28     </span>│<span style=\"color: #800080\"> 2 8 31 45 53 65 76 94 3 4 10 12 13 17 21 90 </span>│\n",
       "│<span style=\"color: #008080\">    29     </span>│<span style=\"color: #800080\"> 2 3 4 8 10 12 13 17 21 31 45 53 65 76 90 94 </span>│\n",
       "│<span style=\"color: #008080\">    30     </span>│<span style=\"color: #800080\"> 2 3 4 8 10 12 13 17 21 31 45 53 65 76 90 94 </span>│\n",
       "└───────────┴─────────────────────────────────────────────┘\n",
       "</pre>\n"
      ],
      "text/plain": [
       "<rich.jupyter.JupyterRenderable at 0x10eb3e048>"
      ]
     },
     "metadata": {},
     "output_type": "display_data"
    },
    {
     "data": {
      "text/plain": [
       "[2, 3, 4, 8, 10, 12, 13, 17, 21, 31, 45, 53, 65, 76, 90, 94]"
      ]
     },
     "execution_count": 89,
     "metadata": {},
     "output_type": "execute_result"
    }
   ],
   "source": [
    "merge_sort.sort(steps = True)"
   ]
  },
  {
   "cell_type": "code",
   "execution_count": 90,
   "metadata": {},
   "outputs": [
    {
     "data": {
      "image/png": "[encoded data removed]",
      "text/plain": [
       "<Figure size 936x468 with 1 Axes>"
      ]
     },
     "metadata": {},
     "output_type": "display_data"
    }
   ],
   "source": [
    "merge_sort.visualize(interval = 10)"
   ]
  },
  {
   "cell_type": "code",
   "execution_count": 91,
   "metadata": {},
   "outputs": [
    {
     "data": {
      "text/html": [
       "<pre style=\"white-space:pre;overflow-x:auto;line-height:normal;font-family:Menlo,'DejaVu Sans Mono',consolas,'Courier New',monospace\"><span style=\"font-style: italic\">          Merge Sort Evaluation           </span>\n",
       "┏━━━━━━━━━━━━━━┳━━━━━━━━━━━┳━━━━━━━━━━━━━┓\n",
       "┃<span style=\"font-weight: bold\">    Metric    </span>┃<span style=\"font-weight: bold\"> Time (ns) </span>┃<span style=\"font-weight: bold\"> Time (sec)  </span>┃\n",
       "┡━━━━━━━━━━━━━━╇━━━━━━━━━━━╇━━━━━━━━━━━━━┩\n",
       "│<span style=\"color: #008080\"> Minimum Time </span>│<span style=\"color: #800080\">   58673   </span>│<span style=\"color: #800080\"> 0.000058673 </span>│\n",
       "│<span style=\"color: #008080\"> Maximum Time </span>│<span style=\"color: #800080\">   58673   </span>│<span style=\"color: #800080\"> 0.000058673 </span>│\n",
       "│<span style=\"color: #008080\"> Average Time </span>│<span style=\"color: #800080\">   58673   </span>│<span style=\"color: #800080\"> 0.000058673 </span>│\n",
       "└──────────────┴───────────┴─────────────┘\n",
       "</pre>\n"
      ],
      "text/plain": [
       "<rich.jupyter.JupyterRenderable at 0x111bd3080>"
      ]
     },
     "metadata": {},
     "output_type": "display_data"
    }
   ],
   "source": [
    "merge_sort.evaluate()"
   ]
  },
  {
   "cell_type": "code",
   "execution_count": null,
   "metadata": {},
   "outputs": [],
   "source": []
  }
 ],
 "metadata": {
  "kernelspec": {
   "display_name": "venv",
   "language": "python",
   "name": "venv"
  },
  "language_info": {
   "codemirror_mode": {
    "name": "ipython",
    "version": 3
   },
   "file_extension": ".py",
   "mimetype": "text/x-python",
   "name": "python",
   "nbconvert_exporter": "python",
   "pygments_lexer": "ipython3",
   "version": "3.7.3"
  }
 },
 "nbformat": 4,
 "nbformat_minor": 2
}
